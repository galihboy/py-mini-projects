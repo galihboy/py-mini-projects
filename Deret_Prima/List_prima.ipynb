{
 "cells": [
  {
   "cell_type": "markdown",
   "id": "9c8393de",
   "metadata": {
    "tags": []
   },
   "source": [
    "# Deret Bilangan Prima\n",
    "Created by Galih Hermawan [[ Web ](https://galih.eu) || [ Blog ](https://blog.galih.eu) || [Tutorial](https://blog.galih.eu/deret-bilangan-prima-dalam-pythonhttps://blog.galih.eu/deret-bilangan-prima-dalam-python)]\n",
    "\n",
    "---"
   ]
  },
  {
   "cell_type": "markdown",
   "id": "507c603e-67d2-4520-90e1-6af10bbaa499",
   "metadata": {},
   "source": [
    "## 1. Percobaan Dasar Modulo"
   ]
  },
  {
   "cell_type": "code",
   "execution_count": 1,
   "id": "6b2c4a22-83fb-4e9d-bcd0-63bf7a3c6806",
   "metadata": {},
   "outputs": [
    {
     "name": "stdout",
     "output_type": "stream",
     "text": [
      "1 AND 2 AND 1 = 1\n",
      "5 adalah bilangan prima\n"
     ]
    }
   ],
   "source": [
    "angka = 5\n",
    "cek1 = angka % 2\n",
    "cek2 = angka % 3\n",
    "cek3 = angka % 4\n",
    "hasil = cek1 and cek2 and cek3 \n",
    "\n",
    "print(f'{cek1} AND {cek2} AND {cek3} = {hasil}')\n",
    "if hasil == 1:\n",
    "    print(f\"{angka} adalah bilangan prima\")\n",
    "else:\n",
    "    print(f\"{angka} adalah bukan bilangan prima\")"
   ]
  },
  {
   "cell_type": "code",
   "execution_count": 2,
   "id": "5df87e0f-29d0-415b-b139-785f9f71c285",
   "metadata": {},
   "outputs": [
    {
     "name": "stdout",
     "output_type": "stream",
     "text": [
      "0 AND 0 AND 2 AND 1 = 0\n",
      "6 adalah bukan bilangan prima\n"
     ]
    }
   ],
   "source": [
    "angka = 6\n",
    "cek1 = angka % 2\n",
    "cek2 = angka % 3\n",
    "cek3 = angka % 4\n",
    "cek4 = angka % 5\n",
    "hasil = cek1 and cek2 and cek3 and cek4\n",
    "\n",
    "print(f'{cek1} AND {cek2} AND {cek3} AND {cek4} = {hasil}')\n",
    "if hasil == 1:\n",
    "    print(f\"{angka} adalah bilangan prima\")\n",
    "else:\n",
    "    print(f\"{angka} adalah bukan bilangan prima\")"
   ]
  },
  {
   "cell_type": "markdown",
   "id": "85028175-d967-4b67-a77d-448b4eabf50b",
   "metadata": {},
   "source": [
    "**Catatan.**<br/>\n",
    "Jika dalam salah satu sisa hasil bagi menghasilkan angka 0, hasil operasi **AND** pasti 0 juga. Dan angka tersebut dipastikan **bukan bilangan prima**."
   ]
  },
  {
   "cell_type": "markdown",
   "id": "c49ce846-96d2-413b-b2b6-46e252b722e2",
   "metadata": {},
   "source": [
    "## 2. Penggunaan Perulangan\n",
    "### a) Listing hasil operasi modulo"
   ]
  },
  {
   "cell_type": "code",
   "execution_count": 3,
   "id": "29efcdde-5555-41e9-9ed0-f62d47810604",
   "metadata": {},
   "outputs": [
    {
     "name": "stdout",
     "output_type": "stream",
     "text": [
      "5 % 2 = 1\n",
      "5 % 3 = 2\n",
      "5 % 4 = 1\n"
     ]
    }
   ],
   "source": [
    "angka = 5\n",
    "for i in range(2, angka):\n",
    "    print(f'{angka} % {i} = {angka % i}')"
   ]
  },
  {
   "cell_type": "code",
   "execution_count": 4,
   "id": "24f004b0-45a1-43a4-b8b8-41f470096258",
   "metadata": {},
   "outputs": [
    {
     "name": "stdout",
     "output_type": "stream",
     "text": [
      "6 % 2 = 0\n",
      "6 % 3 = 0\n",
      "6 % 4 = 2\n",
      "6 % 5 = 1\n"
     ]
    }
   ],
   "source": [
    "angka = 6\n",
    "for i in range(2, angka):\n",
    "    print(f'{angka} % {i} = {angka % i}')"
   ]
  },
  {
   "cell_type": "markdown",
   "id": "c3597d9a-0386-4eac-8bd1-84d241983fd5",
   "metadata": {},
   "source": [
    "### b) Pemeriksaan sisa hasil bagi dalam perulangan"
   ]
  },
  {
   "cell_type": "code",
   "execution_count": 5,
   "id": "65d8ef38-8a71-48ae-9962-39d1abb10a5c",
   "metadata": {},
   "outputs": [
    {
     "name": "stdout",
     "output_type": "stream",
     "text": [
      "5 adalah bilangan prima\n"
     ]
    }
   ],
   "source": [
    "angka = 5\n",
    "for i in range(2, angka):\n",
    "    if angka % i == 0:\n",
    "        print(f'{angka} adalah bukan bilangan prima')\n",
    "        # jika ditemukan sisa hasil bagi 0 - keluar loop, selesai.\n",
    "        break\n",
    "else:\n",
    "    # jika tidak ditemukan sisa hasil bagi 0 hingga perulangan berakhir\n",
    "    print(f'{angka} adalah bilangan prima')"
   ]
  },
  {
   "cell_type": "markdown",
   "id": "1ef95f33-5bc1-408b-a5ff-eb8bf0545d20",
   "metadata": {},
   "source": [
    "### c) Menambahkan validasi untuk angka di bawah 2"
   ]
  },
  {
   "cell_type": "code",
   "execution_count": 6,
   "id": "91bff203-8a9f-475b-89a5-52c1bc0c8227",
   "metadata": {},
   "outputs": [
    {
     "name": "stdout",
     "output_type": "stream",
     "text": [
      "1 adalah bukan bilangan prima\n"
     ]
    }
   ],
   "source": [
    "angka = 1\n",
    "if angka < 2:\n",
    "    print(f'{angka} adalah bukan bilangan prima')\n",
    "else:\n",
    "    for i in range(2, angka):\n",
    "        if angka % i == 0:\n",
    "            print(f'{angka} adalah bukan bilangan prima')\n",
    "            # jika ditemukan sisa hasil bagi 0 - keluar loop, selesai.\n",
    "            break\n",
    "    else:\n",
    "        # jika tidak ditemukan sisa hasil bagi 0 hingga perulangan berakhir\n",
    "        print(f'{angka} adalah bilangan prima')"
   ]
  },
  {
   "cell_type": "markdown",
   "id": "3e7edadb-82f1-49e1-8e5a-b79ab481f659",
   "metadata": {},
   "source": [
    "## 3. Pembuatan Fungsi\n",
    "### a) Fungsi pemeriksaan angka masukan apakah dapat dikonversi ke format bilangan integer"
   ]
  },
  {
   "cell_type": "code",
   "execution_count": 7,
   "id": "78e07d70-6a9b-40f1-892b-000aa8868988",
   "metadata": {},
   "outputs": [
    {
     "name": "stdout",
     "output_type": "stream",
     "text": [
      "True\n",
      "True\n",
      "True\n",
      "True\n",
      "False\n",
      "False\n"
     ]
    }
   ],
   "source": [
    "def cek_angka(angka):\n",
    "    try:\n",
    "        tes = int(angka)\n",
    "        return True\n",
    "    except ValueError:\n",
    "        return False\n",
    "    \n",
    "print(cek_angka(3))\n",
    "print(cek_angka(3.5))\n",
    "print(cek_angka(-5))\n",
    "print(cek_angka('3'))\n",
    "print(cek_angka('a3'))\n",
    "print(cek_angka('e'))"
   ]
  },
  {
   "cell_type": "markdown",
   "id": "40eeaed6-9d09-4469-a7c5-f4f725bd0cff",
   "metadata": {},
   "source": [
    "### b) Fungsi perbaikan untuk sekaligus konversi data masukan (jika memungkinkan) ke format integer, atau None jika tidak memungkinkan\n",
    "Dalam hal ini, data masukan nantinya dapat berupa bilangan integer atau string (yang dapat dikonversi ke format integer)"
   ]
  },
  {
   "cell_type": "code",
   "execution_count": 8,
   "id": "5150a517-b22a-4452-97b3-c50ec5168a1a",
   "metadata": {},
   "outputs": [
    {
     "name": "stdout",
     "output_type": "stream",
     "text": [
      "3\n",
      "3\n",
      "-5\n",
      "3\n",
      "None\n",
      "None\n"
     ]
    }
   ],
   "source": [
    "def konversi(angka):\n",
    "    try:\n",
    "        return int(angka)\n",
    "    except ValueError:\n",
    "        return None\n",
    "    \n",
    "print(konversi(3))\n",
    "print(konversi(3.5))\n",
    "print(konversi(-5))\n",
    "print(konversi('3'))\n",
    "print(konversi('a3'))\n",
    "print(konversi('e'))"
   ]
  },
  {
   "cell_type": "markdown",
   "id": "3719089a-2788-4990-b784-c923574e6f73",
   "metadata": {},
   "source": [
    "### c) Fungsi cek bilangan prima"
   ]
  },
  {
   "cell_type": "code",
   "execution_count": 9,
   "id": "3c142cf3-3c2e-437c-908b-e8312738bb61",
   "metadata": {},
   "outputs": [
    {
     "name": "stdout",
     "output_type": "stream",
     "text": [
      "True\n",
      "False\n",
      "True\n",
      "None\n"
     ]
    }
   ],
   "source": [
    "def cek_prima(bil):\n",
    "    # konversi data masukan ke integer\n",
    "    bil = konversi(bil)\n",
    "    # jika hasil konversi None (data masukan salah), luaran juga None\n",
    "    if bil is None: return None\n",
    "    # jika bil hasil konversi tidak ada masalah, dilanjutkan proses pemeriksaan bilangan prima\n",
    "    if bil<2:\n",
    "        return False\n",
    "    else:\n",
    "        for i in range(2, bil):\n",
    "            if bil%i==0:\n",
    "                return False\n",
    "        else:\n",
    "            return True\n",
    "\n",
    "print(cek_prima(3))\n",
    "print(cek_prima(6))\n",
    "print(cek_prima('11'))\n",
    "print(cek_prima('1x'))"
   ]
  },
  {
   "cell_type": "markdown",
   "id": "a20237e6-e521-4406-b657-b559cb1706e0",
   "metadata": {},
   "source": [
    "### d) Fungsi membangkitkan deret bilangan prima\n",
    "- Cetak hasil pemeriksaan bilangan prima dalam sebuah perulangan"
   ]
  },
  {
   "cell_type": "code",
   "execution_count": 10,
   "id": "e0f479ae-2a63-4144-becd-1fed59f03271",
   "metadata": {},
   "outputs": [
    {
     "name": "stdout",
     "output_type": "stream",
     "text": [
      "5: prima? True\n",
      "6: prima? False\n",
      "7: prima? True\n",
      "8: prima? False\n",
      "9: prima? False\n",
      "10: prima? False\n",
      "11: prima? True\n",
      "12: prima? False\n",
      "13: prima? True\n",
      "14: prima? False\n",
      "15: prima? False\n"
     ]
    }
   ],
   "source": [
    "min = 5\n",
    "maks = 15\n",
    "\n",
    "for angka in range(min, maks+1):\n",
    "    print(f'{angka}: prima? {cek_prima(angka)}')"
   ]
  },
  {
   "cell_type": "markdown",
   "id": "cbd58cbb-7cd1-4c88-8073-1af167004177",
   "metadata": {},
   "source": [
    "- Cetak hanya angka yang termasuk ke dalam bilangan prima saja"
   ]
  },
  {
   "cell_type": "code",
   "execution_count": 11,
   "id": "b3a605e2-8db3-4f93-91e2-af1ef5434ccb",
   "metadata": {},
   "outputs": [
    {
     "name": "stdout",
     "output_type": "stream",
     "text": [
      "5\n",
      "7\n",
      "11\n",
      "13\n"
     ]
    }
   ],
   "source": [
    "min = 5\n",
    "maks = 15\n",
    "\n",
    "for angka in range(min, maks+1):\n",
    "    if cek_prima(angka):\n",
    "        print(angka)"
   ]
  },
  {
   "cell_type": "markdown",
   "id": "35a8e4a4-8856-4e7d-903d-5752f9efe443",
   "metadata": {},
   "source": [
    "- Menyimpan bilangan prima ke dalam list"
   ]
  },
  {
   "cell_type": "code",
   "execution_count": 12,
   "id": "a7531fbc-6dd3-4dec-9912-46a43d249d17",
   "metadata": {},
   "outputs": [
    {
     "name": "stdout",
     "output_type": "stream",
     "text": [
      "[5, 7, 11, 13]\n"
     ]
    }
   ],
   "source": [
    "min = 5\n",
    "maks = 15\n",
    "listPrima = []\n",
    "\n",
    "for angka in range(min, maks+1):\n",
    "    if cek_prima(angka):\n",
    "        listPrima.append(angka)\n",
    "        \n",
    "print(listPrima)"
   ]
  },
  {
   "cell_type": "markdown",
   "id": "c5ad7ec6-57a7-4017-9771-675a921b62dd",
   "metadata": {},
   "source": [
    "- Membuat fungsi deret prima yang menerima dua parameter masukan, yaitu **min** (batas bawah) dan **maks** (batas atas)"
   ]
  },
  {
   "cell_type": "code",
   "execution_count": 13,
   "id": "2fe1f687-caf5-47ec-80f3-b24d861ffefa",
   "metadata": {},
   "outputs": [
    {
     "name": "stdout",
     "output_type": "stream",
     "text": [
      "[5, 7, 11, 13]\n"
     ]
    }
   ],
   "source": [
    "def deret_prima(min, maks):\n",
    "    listPrima = []\n",
    "    min = konversi(min)\n",
    "    maks = konversi(maks)\n",
    "    # jika hasil konversi dari salah satu min/maks adalah None, luaran juga None\n",
    "    if min is None or maks is None:\n",
    "        return None\n",
    "    else:\n",
    "        for angka in range(min, maks+1):\n",
    "            if cek_prima(angka):\n",
    "                listPrima.append(angka)\n",
    "        return listPrima\n",
    "            \n",
    "min = 5\n",
    "maks = 15\n",
    "print(deret_prima(min, maks))"
   ]
  },
  {
   "cell_type": "markdown",
   "id": "8a1bd242-f1a8-4dcc-910c-0b3eedc46632",
   "metadata": {},
   "source": [
    "## 4. Fungsi yang Menerima 2 Jenis Masukan\n",
    "1. Jenis pertama adalah berupa satu buah masukan, yang berarti hanya pemeriksaan bilangan prima;\n",
    "2. Jenis kedua adalah berupa dua masukan, bertujuan untuk membangkitkan deret bilangan prima. Angka minimal adalah parameter masukan pertama, dan angka maksimal adalah parameter masukan kedua."
   ]
  },
  {
   "cell_type": "code",
   "execution_count": 14,
   "id": "0ca6b794-bfab-4dcb-a93d-e5ad1225f9d2",
   "metadata": {},
   "outputs": [
    {
     "name": "stdout",
     "output_type": "stream",
     "text": [
      "True\n",
      "[5, 7, 11, 13]\n",
      "False\n",
      "[2, 3, 5, 7]\n",
      "None\n",
      "None\n",
      "Data masukan tidak valid.\n",
      "Data masukan tidak valid.\n"
     ]
    }
   ],
   "source": [
    "def prima(*args):\n",
    "    jmlMasukan = len(args)\n",
    "    if jmlMasukan==1:\n",
    "        bil = args[0]\n",
    "        print(cek_prima(bil))\n",
    "    elif jmlMasukan==2:\n",
    "        min = args[0]\n",
    "        maks = args[1]\n",
    "        print(deret_prima(min, maks))\n",
    "    else:\n",
    "        print('Data masukan tidak valid.')\n",
    "\n",
    "prima(3)\n",
    "prima(5, 15)\n",
    "prima('8')\n",
    "prima('2', '7')\n",
    "prima('g')\n",
    "prima(5, 'f')\n",
    "prima()\n",
    "prima(4, 10, 20)"
   ]
  },
  {
   "cell_type": "markdown",
   "id": "eda4e5ca-d5b1-4503-a7b2-89ba65acddce",
   "metadata": {},
   "source": [
    "## 5. Buat Class Lengkap\n",
    "Class terdiri atas method (fungsi) utama: konversi, cek_prima, deret_prima, luaran, dan luaranString."
   ]
  },
  {
   "cell_type": "code",
   "execution_count": 26,
   "id": "3b60650f-a01f-4543-8c4c-c8ad05ff006e",
   "metadata": {},
   "outputs": [],
   "source": [
    "class Prima:\n",
    "    # inisiasi berupa 1 angka untuk cek prima, atau 2 angka untuk membangkitkan deret prima\n",
    "    def __init__(self, *args):\n",
    "        self.panjang = len(args)\n",
    "        self.isi = args\n",
    "    \n",
    "    # konversi ke format integer\n",
    "    def konversi(self, angka):\n",
    "        try:\n",
    "            return int(angka)\n",
    "        except ValueError:\n",
    "            return None\n",
    "        \n",
    "    # cetak isi list\n",
    "    def luaran(self):\n",
    "        # argumen berisi 1 angka untuk cek prima\n",
    "        if self.panjang==1:\n",
    "            bil = self.konversi(self.isi[0])\n",
    "            if bil is not None:\n",
    "                return self.cek_prima(bil)\n",
    "            else:\n",
    "                return \"Angka harus berupa bilangan bulat positif\"\n",
    "        # argumen berisi 2 angka untuk membangkitkan deret prima di antara dua bilangan\n",
    "        elif self.panjang==2:\n",
    "            bMin = self.konversi(self.isi[0])\n",
    "            bMaks = self.konversi(self.isi[1])\n",
    "            if (bMin and bMaks) is not None:\n",
    "                return self.deret_prima(bMin, bMaks)\n",
    "            else:\n",
    "                return \"Angka harus berupa bilangan bulat positif\"\n",
    "        else:\n",
    "            return None\n",
    "    \n",
    "    # cetak isi list berupa string\n",
    "    def luaranString(self):\n",
    "        # argumen berisi 1 angka untuk cek prima\n",
    "        if self.panjang==1:\n",
    "            bil = self.konversi(self.isi[0])\n",
    "            if bil is not None:\n",
    "                strStatus=\"prima\" if self.cek_prima(bil) else \"bukan prima\"\n",
    "                return f\"Angka {bil} adalah bilangan {strStatus}\"\n",
    "            else:\n",
    "                return \"Angka harus berupa bilangan bulat positif\"        \n",
    "        # argumen berisi 2 angka untuk membangkitkan deret prima di antara dua bilangan\n",
    "        elif self.panjang==2:\n",
    "            bMin = self.konversi(self.isi[0])\n",
    "            bMaks = self.konversi(self.isi[1])\n",
    "            if (bMin and bMaks) is not None:\n",
    "                listPrima = self.deret_prima(bMin, bMaks)\n",
    "                if listPrima:\n",
    "                    strListPrima = [str(angka) for angka in listPrima]\n",
    "                    strOutput = \", \".join(strListPrima)\n",
    "                    strOutput = f\"Bilangan prima dalam rentang {bMin}-{bMaks} adalah {strOutput}\"\n",
    "                else:\n",
    "                    strOutput = f\"Bilangan prima dalam rentang {bMin}-{bMaks} tidak ditemukan.\"\n",
    "                return strOutput\n",
    "            else:\n",
    "                return \"Angka harus berupa bilangan bulat positif\"\n",
    "        else:\n",
    "            return \"Ada kesalahan\"\n",
    "    \n",
    "    def cek_prima(self, bil):\n",
    "        bil = self.konversi(bil)\n",
    "        if bil is None: return None\n",
    "    \n",
    "        if bil<2:\n",
    "            return False\n",
    "        else:\n",
    "            for i in range(2, bil):\n",
    "                if bil%i==0:\n",
    "                    return False\n",
    "            else:\n",
    "                return True\n",
    "    \n",
    "    def deret_prima(self, bMin, bMaks):\n",
    "        listPrima = []\n",
    "        # jika min>maks, maka tukar tempat\n",
    "        if bMin > bMaks: bMin,bMaks = bMaks,bMin\n",
    "        for angka in range(bMin, bMaks+1):\n",
    "            if self.cek_prima(angka)==True:\n",
    "                listPrima.append(angka)\n",
    "        return listPrima"
   ]
  },
  {
   "cell_type": "markdown",
   "id": "96caeab6-7c7f-4a9a-a093-f5d2154411b8",
   "metadata": {},
   "source": [
    "### a) Cek bilangan prima"
   ]
  },
  {
   "cell_type": "code",
   "execution_count": 27,
   "id": "790bfcd2-50d8-49e8-b462-6701fc7d3e8b",
   "metadata": {},
   "outputs": [
    {
     "name": "stdout",
     "output_type": "stream",
     "text": [
      "False\n",
      "Angka 4 adalah bilangan bukan prima\n"
     ]
    }
   ],
   "source": [
    "p = Prima('4')\n",
    "print(p.luaran())\n",
    "print(p.luaranString())"
   ]
  },
  {
   "cell_type": "code",
   "execution_count": 28,
   "id": "251edb63",
   "metadata": {},
   "outputs": [
    {
     "name": "stdout",
     "output_type": "stream",
     "text": [
      "True\n",
      "Angka 7 adalah bilangan prima\n"
     ]
    }
   ],
   "source": [
    "p = Prima(7)\n",
    "print(p.luaran())\n",
    "print(p.luaranString())"
   ]
  },
  {
   "cell_type": "code",
   "execution_count": 29,
   "id": "ea2a8cb5-5c0f-4151-a7be-83a4e96a4abb",
   "metadata": {},
   "outputs": [
    {
     "name": "stdout",
     "output_type": "stream",
     "text": [
      "Angka harus berupa bilangan bulat positif\n",
      "Angka harus berupa bilangan bulat positif\n"
     ]
    }
   ],
   "source": [
    "p = Prima('z')\n",
    "print(p.luaran())\n",
    "print(p.luaranString())"
   ]
  },
  {
   "cell_type": "markdown",
   "id": "28d2f424-396e-4145-8c0a-aec984294f09",
   "metadata": {},
   "source": [
    "### b) Deret bilangan prima"
   ]
  },
  {
   "cell_type": "code",
   "execution_count": 30,
   "id": "84fc9d0e",
   "metadata": {},
   "outputs": [
    {
     "name": "stdout",
     "output_type": "stream",
     "text": [
      "[5, 7, 11, 13]\n",
      "Bilangan prima dalam rentang 5-15 adalah 5, 7, 11, 13\n"
     ]
    }
   ],
   "source": [
    "p = Prima(5, 15)\n",
    "print(p.luaran())\n",
    "print(p.luaranString())"
   ]
  },
  {
   "cell_type": "code",
   "execution_count": 31,
   "id": "dccbf13b-fc7b-45e2-8b99-4a77e39eb6b4",
   "metadata": {},
   "outputs": [
    {
     "name": "stdout",
     "output_type": "stream",
     "text": [
      "[5, 7, 11, 13]\n",
      "Bilangan prima dalam rentang 15-5 adalah 5, 7, 11, 13\n"
     ]
    }
   ],
   "source": [
    "p = Prima('15', '5') # otomatis menukar posisi min dan maks jika min>maks\n",
    "print(p.luaran())\n",
    "print(p.luaranString())"
   ]
  },
  {
   "cell_type": "code",
   "execution_count": 34,
   "id": "07032c6a-412f-44f6-9eff-fbd89e0029c6",
   "metadata": {},
   "outputs": [
    {
     "name": "stdout",
     "output_type": "stream",
     "text": [
      "[]\n",
      "Bilangan prima dalam rentang 8-10 tidak ditemukan.\n"
     ]
    }
   ],
   "source": [
    "p = Prima(8, 10)\n",
    "print(p.luaran())\n",
    "print(p.luaranString())"
   ]
  },
  {
   "cell_type": "code",
   "execution_count": 33,
   "id": "2e3666d2-3ecb-4d1e-94ad-ce4d1a282df5",
   "metadata": {},
   "outputs": [
    {
     "name": "stdout",
     "output_type": "stream",
     "text": [
      "Angka harus berupa bilangan bulat positif\n",
      "Angka harus berupa bilangan bulat positif\n"
     ]
    }
   ],
   "source": [
    "p = Prima(5, 'a')\n",
    "print(p.luaran())\n",
    "print(p.luaranString())"
   ]
  }
 ],
 "metadata": {
  "kernelspec": {
   "display_name": "ml39",
   "language": "python",
   "name": "ml"
  },
  "language_info": {
   "codemirror_mode": {
    "name": "ipython",
    "version": 3
   },
   "file_extension": ".py",
   "mimetype": "text/x-python",
   "name": "python",
   "nbconvert_exporter": "python",
   "pygments_lexer": "ipython3",
   "version": "3.9.7"
  },
  "toc-autonumbering": true,
  "toc-showcode": true,
  "toc-showmarkdowntxt": true
 },
 "nbformat": 4,
 "nbformat_minor": 5
}
