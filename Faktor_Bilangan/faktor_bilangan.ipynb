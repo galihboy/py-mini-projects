{
 "cells": [
  {
   "cell_type": "markdown",
   "id": "b79df4dc",
   "metadata": {},
   "source": [
    "# Faktor Bilangan\n",
    "\n",
    "### Ditulis oleh Galih Hermawan [ [Web](https://galih.eu) · [Blog](https://blog.galih.eu) ]\n",
    "---\n",
    "Faktor adalah bilangan-bilangan tertentu yang dapat membagi habis suatu bilangan.\n",
    "\n",
    "Sebuah bilangan a dapat dikatakan sebagai faktor bilangan b, jika a habis membagi b. Dengan ketentuan, a dan b merupakan bilangan asli.\n",
    "\n",
    ">Tentukan faktor dari bilangan 6.\n",
    ">\n",
    ">Jawab:\n",
    ">\n",
    ">Bilangan 6 merupakan hasil dari perkalian :<br/>\n",
    ">1 x 6 = 6<br/>\n",
    ">2 x 3 = 6<br/>\n",
    ">3 x 2 = 6<br/>\n",
    ">6 x 1 = 6\n",
    ">\n",
    ">Jadi, faktor dari bilangan 6 adalah 1, 2, 3, dan 6. "
   ]
  },
  {
   "cell_type": "markdown",
   "id": "e4b4fb6f",
   "metadata": {},
   "source": [
    "### 1. Menampilkan faktor bilangan"
   ]
  },
  {
   "cell_type": "code",
   "execution_count": 2,
   "id": "ddd5b459",
   "metadata": {},
   "outputs": [
    {
     "name": "stdout",
     "output_type": "stream",
     "text": [
      "1\n",
      "2\n",
      "3\n",
      "6\n"
     ]
    }
   ],
   "source": [
    "angka = 6\n",
    "for i in range(1,angka+1):\n",
    "    if angka % i == 0:\n",
    "        print(i)"
   ]
  },
  {
   "cell_type": "markdown",
   "id": "13f83aff",
   "metadata": {},
   "source": [
    "### 2. Menampilkan hasil perkalian dari faktori bilangan"
   ]
  },
  {
   "cell_type": "code",
   "execution_count": 22,
   "id": "bcd0cef0",
   "metadata": {},
   "outputs": [
    {
     "name": "stdout",
     "output_type": "stream",
     "text": [
      "1 x 6\n",
      "2 x 3\n"
     ]
    }
   ],
   "source": [
    "angka = 6\n",
    "hasilBagi = 0\n",
    "listTemp = []\n",
    "for i in range(1,angka+1):\n",
    "    if angka % i == 0 :\n",
    "        hasilBagi = angka//i\n",
    "        if i not in listTemp:\n",
    "            listTemp.append(hasilBagi)\n",
    "            print(f\"{i} x {hasilBagi}\")"
   ]
  },
  {
   "cell_type": "markdown",
   "id": "bd6733e3",
   "metadata": {},
   "source": [
    "### 3. Buat Fungsi"
   ]
  },
  {
   "cell_type": "code",
   "execution_count": 27,
   "id": "e7ac5d22",
   "metadata": {},
   "outputs": [
    {
     "name": "stdout",
     "output_type": "stream",
     "text": [
      "1\n",
      "2\n",
      "3\n",
      "6\n"
     ]
    }
   ],
   "source": [
    "def faktor(angka):\n",
    "    for i in range(1,angka+1):\n",
    "        if angka % i == 0:\n",
    "            print(i)\n",
    "faktor(6)"
   ]
  },
  {
   "cell_type": "code",
   "execution_count": 133,
   "id": "0c71236a",
   "metadata": {},
   "outputs": [
    {
     "name": "stdout",
     "output_type": "stream",
     "text": [
      "[1, 2, 3, 6]\n",
      "[1, 37]\n",
      "1, 2, 3, 6\n",
      "1, 2, 3, 6, 23, 46, 69, 138\n"
     ]
    }
   ],
   "source": [
    "def faktor_v2(angka):\n",
    "    return [i for i in range(1, angka+1) if angka%i==0]\n",
    "\n",
    "def faktor_v2_string(angka):\n",
    "    listAngka = [str(i) for i in range(1, angka+1) if angka%i==0]\n",
    "    return \", \".join(listAngka)\n",
    "\n",
    "print(faktor_v2(6))\n",
    "print(faktor_v2(37))\n",
    "print(faktor_v2_string(6))\n",
    "print(faktor_v2_string(138))"
   ]
  },
  {
   "cell_type": "code",
   "execution_count": 74,
   "id": "54e1bc48",
   "metadata": {},
   "outputs": [
    {
     "name": "stdout",
     "output_type": "stream",
     "text": [
      "1 x 100\n",
      "2 x 50\n",
      "4 x 25\n",
      "5 x 20\n",
      "10 x 10\n"
     ]
    }
   ],
   "source": [
    "def faktor_daftar_perkalian(angka):\n",
    "    hasilBagi = 0\n",
    "    listTemp = []\n",
    "    for i in range(1,angka+1):\n",
    "        if angka % i == 0 :\n",
    "            hasilBagi = angka//i\n",
    "            if i not in listTemp:\n",
    "                listTemp.append(hasilBagi)\n",
    "                print(f\"{i} x {hasilBagi}\")\n",
    "\n",
    "faktor_daftar_perkalian(100)"
   ]
  },
  {
   "cell_type": "code",
   "execution_count": 45,
   "id": "047b7f44",
   "metadata": {},
   "outputs": [
    {
     "data": {
      "text/plain": [
       "['1 x 100', '2 x 50', '4 x 25', '5 x 20', '10 x 10']"
      ]
     },
     "execution_count": 45,
     "metadata": {},
     "output_type": "execute_result"
    }
   ],
   "source": [
    "def faktor_daftar_perkalian_v2(angka):\n",
    "    hasilBagi = 0\n",
    "    listTemp = []\n",
    "    listOutput = []\n",
    "    for i in range(1,angka+1):\n",
    "        if angka % i == 0 :\n",
    "            hasilBagi = angka//i\n",
    "            if i not in listTemp:\n",
    "                listTemp.append(hasilBagi)\n",
    "                listOutput.append(f\"{i} x {hasilBagi}\")\n",
    "    return listOutput\n",
    "\n",
    "faktor_daftar_perkalian_v2(100)"
   ]
  },
  {
   "cell_type": "code",
   "execution_count": 159,
   "id": "773e746c",
   "metadata": {},
   "outputs": [
    {
     "data": {
      "text/plain": [
       "['1 x 100', '2 x 50', '4 x 25', '5 x 20', '10 x 10']"
      ]
     },
     "execution_count": 159,
     "metadata": {},
     "output_type": "execute_result"
    }
   ],
   "source": [
    "def faktor_daftar_perkalian_v3(angka):\n",
    "    listFaktor = faktor_v2(angka)\n",
    "    akhir = len(listFaktor)-1\n",
    "    awal = 0\n",
    "    listOutput = []\n",
    "    while True:\n",
    "        if len(listFaktor)>=1:\n",
    "            listOutput.append(f\"{listFaktor[0]} x {listFaktor[-1]}\")\n",
    "            del listFaktor[0]\n",
    "            if not listFaktor: \n",
    "                break\n",
    "            else: \n",
    "                del listFaktor[-1]\n",
    "        else:\n",
    "            break\n",
    "            \n",
    "    return listOutput\n",
    "            \n",
    "faktor_daftar_perkalian_v3(100)"
   ]
  },
  {
   "cell_type": "markdown",
   "id": "62c89abb",
   "metadata": {},
   "source": [
    "### 4. Fungsi dengan dua luaran"
   ]
  },
  {
   "cell_type": "code",
   "execution_count": 170,
   "id": "2434659a",
   "metadata": {},
   "outputs": [
    {
     "name": "stdout",
     "output_type": "stream",
     "text": [
      "[1, 2, 4, 5, 10, 20, 25, 50, 100]\n",
      "['1 x 100', '2 x 50', '4 x 25', '5 x 20', '10 x 10']\n"
     ]
    }
   ],
   "source": [
    "def faktor_bilangan(angka):\n",
    "    listAngka = []\n",
    "    hasilBagi = 0\n",
    "    listTemp = []\n",
    "    listOutput = []\n",
    "    for i in range(1,angka+1):\n",
    "        if angka % i == 0 :\n",
    "            listAngka.append(i)\n",
    "            hasilBagi = angka//i\n",
    "            if i not in listTemp:\n",
    "                listTemp.append(hasilBagi)\n",
    "                listOutput.append(f\"{i} x {hasilBagi}\")\n",
    "    return listAngka, listOutput\n",
    "\n",
    "bilFaktor, bilKali = faktor_bilangan(100)\n",
    "print(bilFaktor)\n",
    "print(bilKali)"
   ]
  },
  {
   "cell_type": "code",
   "execution_count": 181,
   "id": "b82b842b",
   "metadata": {},
   "outputs": [
    {
     "name": "stdout",
     "output_type": "stream",
     "text": [
      "Masukkan bilangan: 100\n",
      "Faktor bilangan dari 100 adalah [1, 2, 4, 5, 10, 20, 25, 50, 100]\n",
      "Daftar perkalian : ['1 x 100', '2 x 50', '4 x 25', '5 x 20', '10 x 10']\n"
     ]
    }
   ],
   "source": [
    "try:\n",
    "    angka = int(input(\"Masukkan bilangan: \"))\n",
    "    assert angka>0\n",
    "except ValueError:\n",
    "    print(\"Angka harus bilangan bulat integer.\")\n",
    "except AssertionError:\n",
    "    print(\"Angka harus bilangan bulat lebih besar dari 0.\")\n",
    "else:\n",
    "    bilFaktor, bilKali = faktor_bilangan(angka)\n",
    "    print(f\"Faktor bilangan dari {angka} adalah {bilFaktor}\")\n",
    "    print(f\"Daftar perkalian : {bilKali}\")"
   ]
  },
  {
   "cell_type": "code",
   "execution_count": null,
   "id": "0e01bd73",
   "metadata": {},
   "outputs": [],
   "source": []
  }
 ],
 "metadata": {
  "kernelspec": {
   "display_name": "ml39",
   "language": "python",
   "name": "ml"
  },
  "language_info": {
   "codemirror_mode": {
    "name": "ipython",
    "version": 3
   },
   "file_extension": ".py",
   "mimetype": "text/x-python",
   "name": "python",
   "nbconvert_exporter": "python",
   "pygments_lexer": "ipython3",
   "version": "3.9.7"
  }
 },
 "nbformat": 4,
 "nbformat_minor": 5
}
