{
 "cells": [
  {
   "cell_type": "markdown",
   "id": "3a1efb4e-c1d7-487d-81ea-b190583749bd",
   "metadata": {},
   "source": [
    "# Faktorisasi Bilangan Prima\n",
    "### Ditulis oleh Galih Hermawan [ [Web](https://galih.eu) · [Tutorial](https://blog.galih.eu/faktorisasi-atau-penguraian-bilangan-prima-dalam-python) ]\n",
    "---\n",
    "**Faktorisasi** dalam matematika adalah dekomposisi suatu objek (misalnya, suatu bilangan, polinomial, atau matriks) menjadi suatu produk objek lain, atau faktor, yang ketika dikalikan bersama menghasilkan bilangan asalnya [Sumber: [Wikipedia](https://id.wikipedia.org/wiki/Faktorisasi)].\n",
    "\n",
    "**Faktorisasi prima** adalah pecahan bilangan komposit yang terdiri dari bilangan-bilangan pembagi yang lebih kecil, dan hasil perkalian dari bilangan-bilangan tersebut sama dengan bilangan komposit yang disebutkan. Contohnya, faktorisasi prima bilangan 84 adalah 2x2x3x7, di mana bilangan 2, 3 dan 7 adalah bilangan prima dan bilangan pembagi 84 [Sumber: [Wikipedia](https://id.wikipedia.org/wiki/Faktorisasi_prima)].\n",
    "\n",
    "Hasil penyederhanaan: 2<sup>2</sup> x 3<sup>1</sup> x 7<sup>1</sup>"
   ]
  },
  {
   "cell_type": "code",
   "execution_count": 2,
   "id": "34ec350a-d7f5-4128-beb7-e880234dcce5",
   "metadata": {},
   "outputs": [],
   "source": [
    "import math\n",
    "from collections import Counter\n",
    "\n",
    "# fungsi untuk memeriksa apakah sebuah angka memiliki akar kuadrat dengan mengeluarkan nilai akarnya jika punya\n",
    "def akar_kuadrat(angka):\n",
    "    akar = math.sqrt(angka)\n",
    "    if int(akar+0.5) ** 2 == angka:\n",
    "        return int(akar)\n",
    "    else:\n",
    "        return None\n",
    "\n",
    "# menghasilkan faktor bilangan dari sebuah angka\n",
    "def faktor_bilangan(angka):\n",
    "    listOutput = []\n",
    "    faktor = [i for i in range(1,angka+1) if angka%i==0]\n",
    "    jml = len(faktor)//2 + len(faktor)%2\n",
    "    for i, data in enumerate(faktor):\n",
    "        if i==jml: break\n",
    "        listOutput.append([faktor[i], faktor[-1-i]])\n",
    "    return faktor, listOutput\n",
    "\n",
    "# menghasilkan hasil faktorisasi prima dari sebuah angka\n",
    "def faktorisasi_prima(angka):\n",
    "    lstFaktorisasiPrima = []\n",
    "    lstTemp = [angka]\n",
    "\n",
    "    while True:\n",
    "        angka = lstTemp[0]\n",
    "        akar = akar_kuadrat(angka)\n",
    "        if akar:\n",
    "            lstTemp.remove(angka)\n",
    "            lstTemp.extend([akar, akar])\n",
    "        else:\n",
    "            _, lstFaktor = faktor_bilangan(angka)\n",
    "            if len(lstFaktor)>1:\n",
    "                lstTemp.remove(angka)\n",
    "                lstTemp.extend(lstFaktor[1])\n",
    "            else: # prima\n",
    "                lstTemp.remove(angka)\n",
    "                lstFaktorisasiPrima.append(angka)\n",
    "\n",
    "        if not lstTemp: break\n",
    "    return lstFaktorisasiPrima\n",
    "\n",
    "# menyederhanakan hasil faktorisasi prima dengan bilangan prima berpangkat\n",
    "def kamus_penyederhanaan(listFaktorPrima):\n",
    "    kamus = Counter(listFaktorPrima)\n",
    "    #print(kamus)\n",
    "    lst = []\n",
    "    for i in kamus:\n",
    "        # print(i, kamus[i])\n",
    "        lst.append(f\"{i}^{kamus[i]}\")\n",
    "    return lst"
   ]
  },
  {
   "cell_type": "code",
   "execution_count": 5,
   "id": "518537d8-e6d2-4a0b-b8dc-7ffb7ef0a618",
   "metadata": {},
   "outputs": [
    {
     "name": "stdout",
     "output_type": "stream",
     "text": [
      "Faktor bilangan dari angka 100 adalah [1, 2, 4, 5, 10, 20, 25, 50, 100]\n",
      "Kombinasi hasil perkalian: [[1, 100], [2, 50], [4, 25], [5, 20], [10, 10]]\n",
      "Hasil faktorisasi prima dari angka 100 adalah [2, 5, 2, 5]\n",
      "Bentuk sederhana: 2^2 x 5^2\n"
     ]
    }
   ],
   "source": [
    "angka = 100\n",
    "\n",
    "bilFaktor, hasilKali = faktor_bilangan(angka)\n",
    "print(f\"Faktor bilangan dari angka {angka} adalah {bilFaktor}\")\n",
    "print(f\"Kombinasi hasil perkalian: {hasilKali}\")\n",
    "\n",
    "hasil = faktorisasi_prima(angka) \n",
    "print(f\"Hasil faktorisasi prima dari angka {angka} adalah {hasil}\")\n",
    "\n",
    "strSederhana = \" x \".join(kamus_penyederhanaan(hasil))\n",
    "print(f\"Bentuk sederhana: {strSederhana}\")"
   ]
  },
  {
   "cell_type": "code",
   "execution_count": null,
   "id": "d356e798-9d69-484e-8429-26d6f586ba8a",
   "metadata": {},
   "outputs": [],
   "source": []
  }
 ],
 "metadata": {
  "kernelspec": {
   "display_name": "ml39",
   "language": "python",
   "name": "ml"
  },
  "language_info": {
   "codemirror_mode": {
    "name": "ipython",
    "version": 3
   },
   "file_extension": ".py",
   "mimetype": "text/x-python",
   "name": "python",
   "nbconvert_exporter": "python",
   "pygments_lexer": "ipython3",
   "version": "3.9.7"
  }
 },
 "nbformat": 4,
 "nbformat_minor": 5
}
