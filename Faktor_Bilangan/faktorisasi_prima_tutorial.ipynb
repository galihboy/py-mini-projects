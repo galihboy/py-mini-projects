{
 "cells": [
  {
   "cell_type": "markdown",
   "id": "7fc4de45-5767-48b1-bd9c-67f8903ff411",
   "metadata": {},
   "source": [
    "# Faktorisasi Bilangan Prima\n",
    "### Ditulis oleh Galih Hermawan [ [Web](https://galih.eu) · [Tutorial](https://blog.galih.eu/faktorisasi-atau-penguraian-bilangan-prima-dalam-python) ]\n",
    "---"
   ]
  },
  {
   "cell_type": "markdown",
   "id": "f4715089-0362-408f-9a5a-cf34fcb59f5d",
   "metadata": {},
   "source": [
    "## 1. Faktor bilangan\n",
    "Menampilkan sisa hasil bagi dari angka 6 terhadap angka 1 s/d angka 6 itu sendiri."
   ]
  },
  {
   "cell_type": "code",
   "execution_count": 1,
   "id": "4c372af8-3ad4-4536-9efe-34c343e395f0",
   "metadata": {},
   "outputs": [
    {
     "name": "stdout",
     "output_type": "stream",
     "text": [
      "6 % 1 = 0\n",
      "6 % 2 = 0\n",
      "6 % 3 = 0\n",
      "6 % 4 = 2\n",
      "6 % 5 = 1\n",
      "6 % 6 = 0\n"
     ]
    }
   ],
   "source": [
    "angka = 6\n",
    "for i in range(1, angka + 1):\n",
    "    print(f\"{angka} % {i} = {angka%i}\")"
   ]
  },
  {
   "cell_type": "markdown",
   "id": "e9ffc23c-633b-4d04-b701-8b9f065241af",
   "metadata": {},
   "source": [
    "Sisa hasil bagi sama dengan 0 artinya angka 6 dapat habis dibagi oleh angka pembaginya, yaitu: 1, 2, 3, dan 6.<br/>\n",
    "Berikutnya adalah menyeleksi angka pembagi yang hanya menghasilkan sisa hasil bagi sama dengan 0."
   ]
  },
  {
   "cell_type": "code",
   "execution_count": 3,
   "id": "f4ac7921-f05e-4ace-956f-8058abe655b4",
   "metadata": {},
   "outputs": [
    {
     "name": "stdout",
     "output_type": "stream",
     "text": [
      "1\n",
      "2\n",
      "3\n",
      "6\n"
     ]
    }
   ],
   "source": [
    "angka = 6\n",
    "for i in range(1, angka + 1):\n",
    "    if angka % i == 0:\n",
    "        print(i)"
   ]
  },
  {
   "cell_type": "markdown",
   "id": "c727bfcd-bb1e-44ee-af64-dbb1c6dc46b6",
   "metadata": {},
   "source": [
    "Buat fungsi untuk menampilkan bilangan faktor dan disimpan dalam sebuah *list*."
   ]
  },
  {
   "cell_type": "code",
   "execution_count": 4,
   "id": "87925f5d-489f-4197-86cc-80739aa8ff9d",
   "metadata": {},
   "outputs": [
    {
     "name": "stdout",
     "output_type": "stream",
     "text": [
      "[1, 2, 3, 6]\n"
     ]
    }
   ],
   "source": [
    "def faktor_bilangan(angka):\n",
    "    listFaktor = []\n",
    "    for i in range(1, angka + 1):\n",
    "        if angka % i == 0:\n",
    "            listFaktor.append(i)\n",
    "    return listFaktor\n",
    "\n",
    "angka = 6\n",
    "bil_faktor = faktor_bilangan(angka)\n",
    "print(bil_faktor)"
   ]
  },
  {
   "cell_type": "markdown",
   "id": "ac51abce-68b9-49c4-839d-dc2a4e5e3374",
   "metadata": {},
   "source": [
    "Bisa juga dikompres dalam sebuah *list comprehension*. "
   ]
  },
  {
   "cell_type": "code",
   "execution_count": 8,
   "id": "afebbfbe-3e73-4cd8-880c-5aab2bb01e02",
   "metadata": {},
   "outputs": [
    {
     "name": "stdout",
     "output_type": "stream",
     "text": [
      "[1, 2, 3, 6]\n"
     ]
    }
   ],
   "source": [
    "angka = 6\n",
    "bil_faktor = [i for i in range(1, angka+1) if angka % i == 0]\n",
    "print(bil_faktor)"
   ]
  },
  {
   "cell_type": "markdown",
   "id": "26532b19-bec4-4a65-be9f-5b197d59cc05",
   "metadata": {},
   "source": [
    "Buat fungsi yang di dalamnya mengandung *list comprehension*."
   ]
  },
  {
   "cell_type": "code",
   "execution_count": 12,
   "id": "b387ea07-1738-4d53-8880-69dbd93160cc",
   "metadata": {},
   "outputs": [
    {
     "name": "stdout",
     "output_type": "stream",
     "text": [
      "[1, 2, 3, 6]\n",
      "[1, 2, 4, 5, 10, 20, 25, 50, 100]\n",
      "[1, 3, 5, 9, 15, 25, 45, 75, 225]\n"
     ]
    }
   ],
   "source": [
    "def faktor_bilangan_v2(angka):\n",
    "    return [i for i in range(1, angka+1) if angka % i == 0]\n",
    "\n",
    "print(faktor_bilangan_v2(6))\n",
    "print(faktor_bilangan_v2(100))\n",
    "print(faktor_bilangan_v2(225))"
   ]
  },
  {
   "cell_type": "markdown",
   "id": "2db4b94b-f701-47b1-b9ef-ef6539a14e4a",
   "metadata": {},
   "source": [
    "## 2. Menampilkan hasil perkalian dari faktor bilangan yang bersesuaian\n",
    "<div>\n",
    "<img src=\"hasil_perkalian.jpg\" width=\"500\"/>\n",
    "</div>\n",
    "\n",
    "---\n",
    "Memasangkan bilangan faktor"
   ]
  },
  {
   "cell_type": "code",
   "execution_count": 21,
   "id": "98121f66-1ceb-4256-87f8-0452076876b6",
   "metadata": {},
   "outputs": [
    {
     "name": "stdout",
     "output_type": "stream",
     "text": [
      "1 6\n",
      "2 3\n"
     ]
    }
   ],
   "source": [
    "contoh_bil_faktor = [1, 2, 3, 6]\n",
    "idxKiri = 0\n",
    "idxKanan = len(contoh_bil_faktor)-1\n",
    "idxTengah = len(contoh_bil_faktor)//2 + len(contoh_bil_faktor)%2\n",
    "while True:\n",
    "    if idxKiri == idxTengah:\n",
    "        break\n",
    "    print(contoh_bil_faktor[idxKiri], contoh_bil_faktor[idxKanan])\n",
    "    idxKiri += 1\n",
    "    idxKanan -= 1"
   ]
  },
  {
   "cell_type": "markdown",
   "id": "245abb73-28d7-4954-b79f-422eebabb999",
   "metadata": {},
   "source": [
    "Buat fungsi untuk memasangkan bilangan faktor"
   ]
  },
  {
   "cell_type": "code",
   "execution_count": 29,
   "id": "0aef87e8-e6c3-4ecf-94f4-66768fbf8cb2",
   "metadata": {},
   "outputs": [
    {
     "name": "stdout",
     "output_type": "stream",
     "text": [
      "Hasil perkalian 1\n",
      "1 6\n",
      "2 3\n",
      "\n",
      "Hasil perkalian 2\n",
      "1 100\n",
      "2 50\n",
      "4 25\n",
      "5 20\n",
      "10 10\n"
     ]
    }
   ],
   "source": [
    "def pasangan_perkalian(listAngka):\n",
    "    idxKiri = 0\n",
    "    idxKanan = len(listAngka)-1\n",
    "    idxTengah = len(listAngka)//2 + len(listAngka)%2\n",
    "    while True:\n",
    "        if idxKiri == idxTengah:\n",
    "            break\n",
    "        print(listAngka[idxKiri], listAngka[idxKanan])\n",
    "        idxKiri += 1\n",
    "        idxKanan -= 1\n",
    "\n",
    "contoh1 = [1, 2, 3, 6]\n",
    "contoh2 = [1, 2, 4, 5, 10, 20, 25, 50, 100]\n",
    "print(\"Hasil perkalian 1\")\n",
    "pasangan_perkalian(contoh1)\n",
    "print(\"\\nHasil perkalian 2\")\n",
    "pasangan_perkalian(contoh2)"
   ]
  },
  {
   "cell_type": "markdown",
   "id": "a9689aac-bcdd-4932-a6b6-c8606439fe5d",
   "metadata": {},
   "source": [
    "## 3. Menggabungkan bilangan faktor dan hasil perkaliannya\n",
    "Fungsi penggabungan ini menerima satu angka masukan dan mengeluarkan dua nilai, yaitu (1) bilangan faktor dan (2) hasil perkalian dalam format *list*."
   ]
  },
  {
   "cell_type": "code",
   "execution_count": 31,
   "id": "9934f573-ed7d-4262-ab67-396ec65059e5",
   "metadata": {},
   "outputs": [
    {
     "name": "stdout",
     "output_type": "stream",
     "text": [
      "([1, 2, 3, 6], [[1, 6], [2, 3]])\n",
      "([1, 2, 4, 5, 10, 20, 25, 50, 100], [[1, 100], [2, 50], [4, 25], [5, 20], [10, 10]])\n"
     ]
    }
   ],
   "source": [
    "def faktor_bilangan(angka):\n",
    "    listOutput = []\n",
    "    faktor = [i for i in range(1,angka+1) if angka%i==0]\n",
    "    jml = len(faktor)//2 + len(faktor)%2\n",
    "    for i, data in enumerate(faktor):\n",
    "        if i==jml: break\n",
    "        listOutput.append([faktor[i], faktor[-1-i]])\n",
    "    return faktor, listOutput\n",
    "\n",
    "print(faktor_bilangan(6))\n",
    "print(faktor_bilangan(100))"
   ]
  },
  {
   "cell_type": "markdown",
   "id": "11f6d2cb-f8e1-4968-a067-cd8e1e00077e",
   "metadata": {},
   "source": [
    "Mempercantik tampilan hasil perkalian"
   ]
  },
  {
   "cell_type": "code",
   "execution_count": 61,
   "id": "57a45aca-9030-459a-ae25-868db602379f",
   "metadata": {},
   "outputs": [
    {
     "name": "stdout",
     "output_type": "stream",
     "text": [
      "([1, 2, 3, 6], [(1, 6), (2, 3)])\n",
      "([1, 2, 4, 5, 10, 20, 25, 50, 100], [(1, 100), (2, 50), (4, 25), (5, 20), (10, 10)])\n",
      "([1, 2, 3, 6], ['(1 x 6)', '(2 x 3)'])\n",
      "([1, 2, 4, 5, 10, 20, 25, 50, 100], ['(1 x 100)', '(2 x 50)', '(4 x 25)', '(5 x 20)', '(10 x 10)'])\n"
     ]
    }
   ],
   "source": [
    "# string_kali bersifat opsional. jika tidak diisi, luaran berupa list asli\n",
    "# jika diisi = 1, luaran berupa list string perkalian\n",
    "def faktor_bilangan(angka, string_kali = 0):\n",
    "    listOutput = []\n",
    "    faktor = [i for i in range(1,angka+1) if angka%i==0]\n",
    "    jml = len(faktor)//2 + len(faktor)%2\n",
    "    for i, data in enumerate(faktor):\n",
    "        if i==jml: break\n",
    "        if string_kali == 1:\n",
    "            listOutput.append((f\"({faktor[i]} x {faktor[-1-i]})\"))\n",
    "        else:\n",
    "            listOutput.append((faktor[i], faktor[-1-i]))\n",
    "    return faktor, listOutput\n",
    "\n",
    "print(faktor_bilangan(6))\n",
    "print(faktor_bilangan(100))\n",
    "print(faktor_bilangan(6, string_kali=1))\n",
    "print(faktor_bilangan(100, string_kali=1))"
   ]
  },
  {
   "cell_type": "markdown",
   "id": "5044e9bb-dfb4-43a3-8b54-47f7dd1145f0",
   "metadata": {},
   "source": [
    "## 4. Pemeriksaan akar kuadrat"
   ]
  },
  {
   "cell_type": "code",
   "execution_count": 105,
   "id": "4c1baa8c-b5c6-484f-bb28-5a820d889a24",
   "metadata": {},
   "outputs": [
    {
     "name": "stdout",
     "output_type": "stream",
     "text": [
      "Akar dari 6 = 2.449489742783178\n",
      "Kuadrat biasa = 5.999999999999999\n",
      "Kuadrat plus setengah = 8.699489742783177\n",
      "Kuadrat plus setengah bulat = 4\n",
      "6 = 4 ? False\n"
     ]
    }
   ],
   "source": [
    "import math\n",
    "\n",
    "angka = 6\n",
    "akar = math.sqrt(angka)\n",
    "print(f\"Akar dari {angka} = {akar}\")\n",
    "kuadrat_biasa = akar ** 2\n",
    "print(f\"Kuadrat biasa = {kuadrat_biasa}\")\n",
    "kuadrat_plus_setengah = (akar+0.5) ** 2\n",
    "print(f\"Kuadrat plus setengah = {kuadrat_plus_setengah}\")\n",
    "kuadrat_plus_setengah_bulat = int(akar+0.5) ** 2\n",
    "print(f\"Kuadrat plus setengah bulat = {kuadrat_plus_setengah_bulat}\")\n",
    "\n",
    "# cek apakah kuadrat_plus_setengah_bulat = angka\n",
    "print(f\"{angka} = {kuadrat_plus_setengah_bulat} ? {kuadrat_plus_setengah_bulat==angka}\")\n"
   ]
  },
  {
   "cell_type": "markdown",
   "id": "e296eca6-e905-4496-9fcb-c5bb7f3b75f2",
   "metadata": {},
   "source": [
    "Buat fungsi pemeriksaan akar kuadrat"
   ]
  },
  {
   "cell_type": "code",
   "execution_count": 56,
   "id": "2a128ffa-d8d8-4458-9479-8a599b4c4c32",
   "metadata": {},
   "outputs": [
    {
     "name": "stdout",
     "output_type": "stream",
     "text": [
      "False\n",
      "True\n"
     ]
    }
   ],
   "source": [
    "def punya_akar_kuadrat(angka):\n",
    "    akar = math.sqrt(angka)\n",
    "    kuadrat = (int(akar+0.5) ** 2 == angka)\n",
    "    return kuadrat\n",
    "\n",
    "print(punya_akar_kuadrat(6))\n",
    "print(punya_akar_kuadrat(100))"
   ]
  },
  {
   "cell_type": "markdown",
   "id": "2a5df452-02ae-4916-8b39-2970916cbbff",
   "metadata": {},
   "source": [
    "Modifikasi fungsi di atas agar luaran berupa nilai akar jika punya akar kuadrat, dan None jika tidak punya"
   ]
  },
  {
   "cell_type": "code",
   "execution_count": 59,
   "id": "3bb971b2-3025-4cf8-9012-061a91f9ddf2",
   "metadata": {},
   "outputs": [
    {
     "name": "stdout",
     "output_type": "stream",
     "text": [
      "None\n",
      "10\n"
     ]
    }
   ],
   "source": [
    "def punya_akar_kuadrat_v2(angka):\n",
    "    akar = math.sqrt(angka)\n",
    "    kuadrat = (int(akar+0.5) ** 2 == angka)\n",
    "    if kuadrat:\n",
    "        return int(akar)\n",
    "    else:\n",
    "        return None\n",
    "\n",
    "print(punya_akar_kuadrat_v2(6))\n",
    "print(punya_akar_kuadrat_v2(100))"
   ]
  },
  {
   "cell_type": "markdown",
   "id": "b3007246-971d-492e-90dd-ff918dcf7071",
   "metadata": {},
   "source": [
    "## 5. Faktorisasi prima\n",
    "Alur proses dari faktorisasi prima adalah sebagai berikut.\n",
    "\n",
    "- Masukkan angka ke list penampung, tetapkan list indeks ke nol sebagai angka masukan;\n",
    "- Cari akar kuadrat dari angka masukan jika ditemukan, kemudian dua akar diletakkan dalam sebuah list penampung. Misal angka masukan adalah 9, maka isi list penampung adalah `[3, 3]`. Kemudian, hapus data angka masukan yang pertama tadi dari list penampung. Jika tidak ditemukan akar kuadratnya, menuju langkah berikutnya;\n",
    "- Bangkitkan faktor bilangan dari angka masukan, periksa jumlah bilangan yang ada di dalamnya. Jika jumlah bilangan ada 2, berarti angka tersebut merupakan bilangan prima. Misalnya, angka 2 memiliki faktor bilangan `[1, 2]`, angka 3 memiliki faktor bilangan `[1, 3]`, dan seterusnya sesuai definisi bilangan prima. Angka tersebut selanjutnya ditambahkan ke list luaran akhir.\n",
    "- Jika jumlah bilangan lebih dari 2 -- yang tidak termasuk dalam bilangan prima -- maka, list faktor bilangan sepenuhnya ditambahkan ke list penampung dan hapus data angka masukan dari list penampung.\n",
    "- Langkah-langkah ini diulangi terus hingga list penampung kosong.\n",
    "- Luaran akhir akan berisi daftar hasil faktorisasi bilangan prima."
   ]
  },
  {
   "cell_type": "code",
   "execution_count": 87,
   "id": "7065adfb-a133-428a-9188-1404f0f69cd2",
   "metadata": {},
   "outputs": [
    {
     "name": "stdout",
     "output_type": "stream",
     "text": [
      "[2, 3]\n",
      "[2, 5, 2, 5]\n"
     ]
    }
   ],
   "source": [
    "def faktorisasi_prima(angka):\n",
    "    if angka == 1:\n",
    "        return [1]\n",
    "    elif angka < 1:\n",
    "        return []\n",
    "    lstFaktorisasiPrima = []\n",
    "    lstTemp = [angka]\n",
    "\n",
    "    while True:\n",
    "        angka = lstTemp[0]\n",
    "        akar = punya_akar_kuadrat_v2(angka)\n",
    "        if akar:\n",
    "            lstTemp.remove(angka)\n",
    "            lstTemp.extend([akar, akar])\n",
    "        else:\n",
    "            _, lstFaktor = faktor_bilangan(angka)\n",
    "            if len(lstFaktor)>1:\n",
    "                lstTemp.remove(angka)\n",
    "                lstTemp.extend(lstFaktor[1])\n",
    "            else: # prima\n",
    "                lstTemp.remove(angka)\n",
    "                lstFaktorisasiPrima.append(angka)\n",
    "\n",
    "        if not lstTemp: break\n",
    "    return lstFaktorisasiPrima\n",
    "\n",
    "print(faktorisasi_prima(6))\n",
    "print(faktorisasi_prima(100))"
   ]
  },
  {
   "cell_type": "markdown",
   "id": "2f4d7dde-0909-42b7-8a03-6b2168596692",
   "metadata": {},
   "source": [
    "## 6. Menyederhanakan tampilan faktor prima\n",
    "Menggunakan fungsi ***Counter*** pada lib ***Collections*** untuk menghitung jumlah kemunculan dari setiap anggota *list*. Luarannya berupa kamus (*dictionary*), yang mana *keys* adalah anggka, dan *values* adalah jumlah angka."
   ]
  },
  {
   "cell_type": "code",
   "execution_count": 64,
   "id": "a227341c-1808-4198-899e-de0761ac640e",
   "metadata": {},
   "outputs": [
    {
     "name": "stdout",
     "output_type": "stream",
     "text": [
      "Counter({2: 1, 3: 1})\n",
      "Counter({2: 2, 5: 2})\n"
     ]
    }
   ],
   "source": [
    "from collections import Counter\n",
    "\n",
    "contoh1 = [2, 3]\n",
    "contoh2 = [2, 5, 2, 5]\n",
    "print(Counter(contoh1))\n",
    "print(Counter(contoh2))"
   ]
  },
  {
   "cell_type": "code",
   "execution_count": 90,
   "id": "9eeb36aa-751c-490b-b62f-0a04f4160d78",
   "metadata": {},
   "outputs": [
    {
     "name": "stdout",
     "output_type": "stream",
     "text": [
      "['2^1', '3^1']\n",
      "['2^2', '5^2']\n"
     ]
    }
   ],
   "source": [
    "def kamus_penyederhanaan(listFaktorPrima):\n",
    "    if not listFaktorPrima:\n",
    "        return None\n",
    "    kamus = Counter(listFaktorPrima)\n",
    "    lst = []\n",
    "    for i in kamus:\n",
    "        lst.append(f\"{i}^{kamus[i]}\")\n",
    "    return lst\n",
    "\n",
    "contoh1 = [2, 3]\n",
    "contoh2 = [2, 5, 2, 5]\n",
    "print(kamus_penyederhanaan(contoh1))\n",
    "print(kamus_penyederhanaan(contoh2))"
   ]
  },
  {
   "cell_type": "markdown",
   "id": "38003d0c-fb64-463c-869a-443c76df520c",
   "metadata": {},
   "source": [
    "Modifikasi fungsi untuk menampilkan luaran dalam format string perkalian"
   ]
  },
  {
   "cell_type": "code",
   "execution_count": 94,
   "id": "c64f7c3a-9dc5-44d5-9085-e32942933756",
   "metadata": {},
   "outputs": [
    {
     "name": "stdout",
     "output_type": "stream",
     "text": [
      "2^1 x 3^1\n",
      "2^2 x 5^2\n",
      "1^1\n"
     ]
    }
   ],
   "source": [
    "def kamus_penyederhanaan_v2(listFaktorPrima):\n",
    "    if not listFaktorPrima:\n",
    "        return None\n",
    "    kamus = Counter(listFaktorPrima)\n",
    "    lst = []\n",
    "    for i in kamus:\n",
    "        lst.append(f\"{i}^{kamus[i]}\")\n",
    "    if len(lst)>1:\n",
    "        return \" x \".join(lst)\n",
    "    else:\n",
    "        return lst[0]\n",
    "    \n",
    "contoh1 = [2, 3]\n",
    "contoh2 = [2, 5, 2, 5]\n",
    "contoh3 = [1]\n",
    "print(kamus_penyederhanaan_v2(contoh1))\n",
    "print(kamus_penyederhanaan_v2(contoh2))\n",
    "print(kamus_penyederhanaan_v2(contoh3))"
   ]
  },
  {
   "cell_type": "markdown",
   "id": "d9941e8e-97cf-4e23-89cb-57696814ac5c",
   "metadata": {},
   "source": [
    "## 7. Menggabungkan semua fungsi berkaitan"
   ]
  },
  {
   "cell_type": "code",
   "execution_count": 95,
   "id": "fb7236b0-4303-4bf9-bcbc-55fcd7991d9d",
   "metadata": {},
   "outputs": [
    {
     "name": "stdout",
     "output_type": "stream",
     "text": [
      "Faktorisasi prima 6 =  (([1, 2, 3, 6], ['(1 x 6)', '(2 x 3)']), [2, 3], '2^1 x 3^1')\n",
      "\n",
      "Faktorisasi prima 100 =  (([1, 2, 4, 5, 10, 20, 25, 50, 100], ['(1 x 100)', '(2 x 50)', '(4 x 25)', '(5 x 20)', '(10 x 10)']), [2, 5, 2, 5], '2^2 x 5^2')\n"
     ]
    }
   ],
   "source": [
    "def faktorisasi_prima_final(angka):\n",
    "    fp = faktorisasi_prima(angka)\n",
    "    return faktor_bilangan(angka, 1), fp, kamus_penyederhanaan_v2(fp)\n",
    "\n",
    "print(\"Faktorisasi prima 6 = \", faktorisasi_prima_final(6))\n",
    "print(\"\\nFaktorisasi prima 100 = \", faktorisasi_prima_final(100))"
   ]
  },
  {
   "cell_type": "markdown",
   "id": "6704aa5c-501d-47af-b7d4-a1b8226cb7ae",
   "metadata": {},
   "source": [
    "## 8. Mekanisme penerimaan input dari pengguna"
   ]
  },
  {
   "cell_type": "code",
   "execution_count": 104,
   "id": "3ee0e8f0-4eb0-445c-a479-160d842f749e",
   "metadata": {},
   "outputs": [
    {
     "name": "stdin",
     "output_type": "stream",
     "text": [
      "\n",
      "Masukkan angka (0 untuk keluar):  4\n"
     ]
    },
    {
     "name": "stdout",
     "output_type": "stream",
     "text": [
      "Faktor bilangan dari 4 adalah [1, 2, 4]\n",
      "Hasil perkalian = ['(1 x 4)', '(2 x 2)']\n",
      "Faktor prima = [2, 2]\n",
      "Format sederhana = 2^2\n"
     ]
    },
    {
     "name": "stdin",
     "output_type": "stream",
     "text": [
      "\n",
      "Masukkan angka (0 untuk keluar):  6\n"
     ]
    },
    {
     "name": "stdout",
     "output_type": "stream",
     "text": [
      "Faktor bilangan dari 6 adalah [1, 2, 3, 6]\n",
      "Hasil perkalian = ['(1 x 6)', '(2 x 3)']\n",
      "Faktor prima = [2, 3]\n",
      "Format sederhana = 2^1 x 3^1\n"
     ]
    },
    {
     "name": "stdin",
     "output_type": "stream",
     "text": [
      "\n",
      "Masukkan angka (0 untuk keluar):  100\n"
     ]
    },
    {
     "name": "stdout",
     "output_type": "stream",
     "text": [
      "Faktor bilangan dari 100 adalah [1, 2, 4, 5, 10, 20, 25, 50, 100]\n",
      "Hasil perkalian = ['(1 x 100)', '(2 x 50)', '(4 x 25)', '(5 x 20)', '(10 x 10)']\n",
      "Faktor prima = [2, 5, 2, 5]\n",
      "Format sederhana = 2^2 x 5^2\n"
     ]
    },
    {
     "name": "stdin",
     "output_type": "stream",
     "text": [
      "\n",
      "Masukkan angka (0 untuk keluar):  90000\n"
     ]
    },
    {
     "name": "stdout",
     "output_type": "stream",
     "text": [
      "Faktor bilangan dari 90000 adalah [1, 2, 3, 4, 5, 6, 8, 9, 10, 12, 15, 16, 18, 20, 24, 25, 30, 36, 40, 45, 48, 50, 60, 72, 75, 80, 90, 100, 120, 125, 144, 150, 180, 200, 225, 240, 250, 300, 360, 375, 400, 450, 500, 600, 625, 720, 750, 900, 1000, 1125, 1200, 1250, 1500, 1800, 1875, 2000, 2250, 2500, 3000, 3600, 3750, 4500, 5000, 5625, 6000, 7500, 9000, 10000, 11250, 15000, 18000, 22500, 30000, 45000, 90000]\n",
      "Hasil perkalian = ['(1 x 90000)', '(2 x 45000)', '(3 x 30000)', '(4 x 22500)', '(5 x 18000)', '(6 x 15000)', '(8 x 11250)', '(9 x 10000)', '(10 x 9000)', '(12 x 7500)', '(15 x 6000)', '(16 x 5625)', '(18 x 5000)', '(20 x 4500)', '(24 x 3750)', '(25 x 3600)', '(30 x 3000)', '(36 x 2500)', '(40 x 2250)', '(45 x 2000)', '(48 x 1875)', '(50 x 1800)', '(60 x 1500)', '(72 x 1250)', '(75 x 1200)', '(80 x 1125)', '(90 x 1000)', '(100 x 900)', '(120 x 750)', '(125 x 720)', '(144 x 625)', '(150 x 600)', '(180 x 500)', '(200 x 450)', '(225 x 400)', '(240 x 375)', '(250 x 360)', '(300 x 300)']\n",
      "Faktor prima = [2, 2, 2, 2, 3, 3, 5, 5, 5, 5]\n",
      "Format sederhana = 2^4 x 3^2 x 5^4\n"
     ]
    },
    {
     "name": "stdin",
     "output_type": "stream",
     "text": [
      "\n",
      "Masukkan angka (0 untuk keluar):  0\n"
     ]
    }
   ],
   "source": [
    "while True:\n",
    "    try:\n",
    "        angka = int(input(\"\\nMasukkan angka (0 untuk keluar): \"))\n",
    "        if angka == 0: break\n",
    "    except ValueError:\n",
    "        print(\"Angka masukan harus berupa bilangan bulat (integer) positif\")\n",
    "    else:\n",
    "        data = faktorisasi_prima_final(angka)\n",
    "        print(f\"Faktor bilangan dari {angka} adalah {data[0][0]}\")\n",
    "        print(f\"Hasil perkalian = {data[0][1]}\")\n",
    "        print(f\"Faktor prima = {data[1]}\")\n",
    "        print(f\"Format sederhana = {data[2]}\")"
   ]
  },
  {
   "cell_type": "code",
   "execution_count": null,
   "id": "197bdf2c-9565-4574-8c8d-4120f569a77b",
   "metadata": {},
   "outputs": [],
   "source": []
  }
 ],
 "metadata": {
  "kernelspec": {
   "display_name": "ml39",
   "language": "python",
   "name": "ml"
  },
  "language_info": {
   "codemirror_mode": {
    "name": "ipython",
    "version": 3
   },
   "file_extension": ".py",
   "mimetype": "text/x-python",
   "name": "python",
   "nbconvert_exporter": "python",
   "pygments_lexer": "ipython3",
   "version": "3.9.7"
  }
 },
 "nbformat": 4,
 "nbformat_minor": 5
}
